{
 "cells": [
  {
   "attachments": {},
   "cell_type": "markdown",
   "metadata": {},
   "source": [
    "## Laboratorio 2 - Regresión\n",
    "\n",
    "El objetivo de este notebook es realizar el analisis del caso MotorAlpes, para el cual se tiene un conjunto de datos que reúne información general de todo tipo de vehículos usados junto a los precios que se consideran apropiados.\n",
    "\n",
    "Se tiene como resultado los siguientes objetivos:\n",
    "\n",
    "* Identificar las variables que más impactan el precio de un vehículo usado.\n",
    "* Predecir el precio de un vehículo usado a partir de las variables de mayor interés.\n",
    "\n",
    "\n",
    "Por medio de 3 iteraciones, se espera que el grupo desarrolle un modelo de agrupamiento que permita responder las preguntas de negocio. En cada iteración se espera que nuestro equipo de trabajo realice los siguientes pasos:\n",
    "\n",
    "* **Iteración1.** Analisis exploratorio de los datos y creación de un primer modelo de agrupamiento.\n",
    "* **Iteración2.** Segundo modelo con mejoras a nivel de preparación de datos y configuración de hiper-parámetros\n",
    "* **Iteración3.** Modelo final que incluye mejoras identificadas al revisar mejor la literatura y la documentación de los algoritmos de agrupamiento.\n",
    "\n",
    "### Descripción de negocio\n",
    "\n",
    "MotorAlpes es una empresa dedicada a la venta y compra de vehículos usados, la cual cuenta con una plataforma en la que sus usuarios (individuos o compañías) pueden publicar vehículos sobre los cuales otros usuarios pueden hacer ofertas. Uno de sus principales objetivos es asegurar que los precios sean justos y además coherentes con las características principales y las condiciones en las que se encuentre el vehículo en cuestión. De esta manera pueden evitar que se presenten estafas u otras situaciones que puedan darle una mala imagen a la empresa.\n",
    "Actualmente, MotorAlpes trabaja con un grupo de expertos que sirven como intermediarios en el proceso de negociación del precio de un vehículo, estableciendo un rango sobre el cual ambas partes pueden llegar a un acuerdo. Sin embargo, debido a la cantidad de usuarios que interactúan constantemente con la plataforma, este proceso es cada vez más lento y se ha encontrado que en muchas ocasiones no es del todo preciso.\n",
    "\n",
    "## Referencias\n",
    "\n",
    "1. [Datos a utilizar: MotorAlpes_data.csv](./data/MotorAlpes_data.csv)\n",
    "2. [Diccionario de datos: MotorAlpes_dictionary.pdf](./data/MotorAlpes_dictionary.pdf)\n",
    "4. [Documentación de la librería de visualización de datos](https://seaborn.pydata.org/)\n",
    "5. [Informacion del negocio](./enunciado.md)"
   ]
  }
 ],
 "metadata": {
  "kernelspec": {
   "display_name": "Python 3",
   "language": "python",
   "name": "python3"
  },
  "language_info": {
   "name": "python",
   "version": "3.10.6"
  },
  "orig_nbformat": 4,
  "vscode": {
   "interpreter": {
    "hash": "d5cea3f534958ef1990666e95211a64de4e0e187d74fb98233208b2ff7513f10"
   }
  }
 },
 "nbformat": 4,
 "nbformat_minor": 2
}
